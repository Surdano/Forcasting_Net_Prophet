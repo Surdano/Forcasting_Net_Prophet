{
 "cells": [
  {
   "cell_type": "markdown",
   "metadata": {
    "id": "XdzpDVHO5vYR"
   },
   "source": [
    "# Forecasting Net Prophet\n",
    "\n",
    "You’re a growth analyst at [MercadoLibre](http://investor.mercadolibre.com/investor-relations). With over 200 million users, MercadoLibre is the most popular e-commerce site in Latin America. You've been tasked with analyzing the company's financial and user data in clever ways to make the company grow. So, you want to find out if the ability to predict search traffic can translate into the ability to successfully trade the stock."
   ]
  },
  {
   "cell_type": "code",
   "execution_count": null,
   "metadata": {
    "colab": {
     "base_uri": "https://localhost:8080/"
    },
    "id": "UvAJ05ZD5vYc",
    "outputId": "29658b4e-cfc1-4e4c-e336-9201faa4a8bf"
   },
   "outputs": [],
   "source": [
    "# Install the required libraries if needed. (Remove \"\"\")\n",
    "\"\"\"\n",
    "from IPython.display import clear_output\n",
    "try:\n",
    "  !pip install pystan\n",
    "  !pip install fbprophet\n",
    "  !pip install hvplot\n",
    "  !pip install holoviews\n",
    "except:\n",
    "  print(\"Error installing libraries\")\n",
    "finally:\n",
    "  clear_output()\n",
    "  print('Libraries successfully installed')\n",
    "  \"\"\""
   ]
  },
  {
   "cell_type": "code",
   "execution_count": null,
   "metadata": {
    "id": "Ae_TZ7Hn5vYd"
   },
   "outputs": [],
   "source": [
    "# Import the required libraries and dependencies\n",
    "import pandas as pd\n",
    "from pathlib import Path\n",
    "import holoviews as hv\n",
    "from fbprophet import Prophet\n",
    "import hvplot.pandas\n",
    "import datetime as dt\n",
    "%matplotlib inline"
   ]
  },
  {
   "cell_type": "code",
   "execution_count": null,
   "metadata": {
    "colab": {
     "base_uri": "https://localhost:8080/",
     "height": 517,
     "resources": {
      "http://localhost:8080/nbextensions/google.colab/files.js": {
       "data": "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",
       "headers": [
        [
         "content-type",
         "application/javascript"
        ]
       ],
       "ok": true,
       "status": 200,
       "status_text": ""
      }
     }
    },
    "id": "J6hRe5m-5vYf",
    "outputId": "1fe27771-bcf0-4122-c381-92d9998ff04c"
   },
   "outputs": [],
   "source": [
    "# Read in CSV file for Google Colab\n",
    "# Upload the \"google_hourly_search_trends.csv\" file into Colab, then store in a Pandas DataFrame\n",
    "# Set the \"Date\" column as the Datetime Index.\n",
    "\"\"\"\n",
    "from google.colab import files\n",
    "uploaded = files.upload()\n",
    "\n",
    "df_mercado_trends = pd.read_csv(\n",
    "    'google_hourly_search_trends.csv',\n",
    "    index_col='Date',\n",
    "    parse_dates=True,\n",
    "    infer_datetime_format=True\n",
    ")\n",
    "\"\"\"\n",
    "# Read in CSV file on Jupyter Lab\n",
    "df_mercado_trends = pd.read_csv(\n",
    "    Path('Resources/google_hourly_search_trends.csv'),\n",
    "    index_col='Date',\n",
    "    parse_dates=True,\n",
    "    infer_datetime_format=True\n",
    ")\n",
    "# Review the first and last five rows of the DataFrame\n",
    "display(df_mercado_trends)\n"
   ]
  },
  {
   "cell_type": "code",
   "execution_count": null,
   "metadata": {
    "colab": {
     "base_uri": "https://localhost:8080/"
    },
    "id": "nQK7tbgH5vYh",
    "outputId": "d981580c-a139-4174-9c8c-c68cf65029e3"
   },
   "outputs": [],
   "source": [
    "# Review the data types of the DataFrame\n",
    "df_mercado_trends.info()\n"
   ]
  },
  {
   "cell_type": "code",
   "execution_count": null,
   "metadata": {
    "colab": {
     "base_uri": "https://localhost:8080/",
     "height": 327
    },
    "id": "5nfftxkL5vYh",
    "outputId": "edbcd54b-318e-41ba-b516-eae9a6a8950a"
   },
   "outputs": [],
   "source": [
    "# Holoviews extension to render hvPlots in Colab\n",
    "hv.extension('bokeh')\n",
    "\n",
    "# Sliced the DataFrame to just the month of May 2020\n",
    "df_may_2020 = df_mercado_trends.loc['2020-05']\n",
    "\n",
    "# Used hvPlot to visualize the data for May 2020\n",
    "df_may_2020.hvplot(title='Google Search Trend for MercadoLibre - May 2020')\n"
   ]
  },
  {
   "cell_type": "code",
   "execution_count": null,
   "metadata": {
    "colab": {
     "base_uri": "https://localhost:8080/"
    },
    "id": "sp3nJT7T5vYj",
    "outputId": "a45f405d-4576-4147-e62e-94842b055e3d"
   },
   "outputs": [],
   "source": [
    "# Calculated the sum of the total search traffic for May 2020\n",
    "traffic_may_2020 = df_may_2020['Search Trends'].sum()\n",
    "\n",
    "# View the traffic_may_2020 value\n",
    "print(f'MercadoLibre was searched {traffic_may_2020} times on Google in the month of May')\n"
   ]
  },
  {
   "cell_type": "code",
   "execution_count": null,
   "metadata": {
    "colab": {
     "base_uri": "https://localhost:8080/"
    },
    "id": "dVsWxZaa5vYj",
    "outputId": "4955a178-739d-4106-e5a7-916fb906ca66"
   },
   "outputs": [],
   "source": [
    "# Calcluated the monhtly median search traffic across all months \n",
    "# Grouped the DataFrame by index-year and then index-month, chained the sum and the median functions\n",
    "median_monthly_traffic = df_mercado_trends.groupby([(df_mercado_trends.index.year),(df_mercado_trends.index.month)]).sum().median()\n",
    "\n",
    "# View the median_monthly_traffic value\n",
    "print(f'The median monthly search traffic across all months from June 2016 to September 2020 was {median_monthly_traffic[\"Search Trends\"]}')\n"
   ]
  },
  {
   "cell_type": "code",
   "execution_count": null,
   "metadata": {
    "id": "Vx5FrSWm5vYj"
   },
   "outputs": [],
   "source": [
    "# Calculated percent change between May and the median monthly traffic from 2016-2020\n",
    "pct_change_mercado_traffic = (traffic_may_2020/median_monthly_traffic['Search Trends'] - 1) * 100\n",
    "\n",
    "# Calculated difference between May and the median monthly traffic from 2016-2020\n",
    "trend_change = traffic_may_2020-median_monthly_traffic['Search Trends']\n",
    "\n",
    "# Compared the seach traffic for the month of May 2020 to the overall monthly median value\n",
    "print(f'The search traffic in May 2020 was {pct_change_mercado_traffic:.2f}% higher or had {trend_change} more searches than the median search amounts for all months from June 2016 - September 2020')\n"
   ]
  },
  {
   "cell_type": "markdown",
   "metadata": {
    "id": "GnbeRJh-5vYk"
   },
   "source": [
    "**Question:** Did the Google search traffic increase during the month that MercadoLibre released its financial results?\n",
    "\n",
    "**Answer:** According to Google Trends, there was an incease in searches for MarcadoLibre, of about 8.55%."
   ]
  },
  {
   "cell_type": "code",
   "execution_count": null,
   "metadata": {},
   "outputs": [],
   "source": [
    "#Created dataframe grouped by mean per hour per weekday\n",
    "df_mercado_hourly_weekday = df_mercado_trends.groupby([\n",
    "     df_mercado_trends.index.hour,\n",
    "     df_mercado_trends.index.weekday]).mean().unstack()['Search Trends']\n"
   ]
  },
  {
   "cell_type": "code",
   "execution_count": null,
   "metadata": {},
   "outputs": [],
   "source": [
    "# Changed the column labels to days of week\n",
    "df_mercado_hourly_weekday.columns= ['Monday','Tuesday','Wednesday','Thursday','Friday','Saturday','Sunday']"
   ]
  },
  {
   "cell_type": "code",
   "execution_count": null,
   "metadata": {
    "id": "MQixxwaT5vYl"
   },
   "outputs": [],
   "source": [
    "# Holoviews extension to render hvPlots in Colab\n",
    "hv.extension('bokeh')\n",
    "\n",
    "# Grouped the hourly search data to plot the average traffic by the day of week \n",
    "df_mercado_hourly_weekday.hvplot(\n",
    "    xlabel = 'Hour',\n",
    "    ylabel= 'Search Traffic',\n",
    "    group_label='Weekday',\n",
    "    title='Average Searches for MercadoLibre by Weekday'\n",
    ")"
   ]
  },
  {
   "cell_type": "code",
   "execution_count": null,
   "metadata": {
    "id": "STfl7jhZ5vYl"
   },
   "outputs": [],
   "source": [
    "# Holoviews extension to render hvPlots in Colab\n",
    "hv.extension('bokeh')\n",
    "\n",
    "# Used hvPlot to visualize the hour of the day and day of week search traffic as a heatmap.\n",
    "df_mercado_hourly_weekday.transpose().hvplot.heatmap(\n",
    "    xlabel='Hour',\n",
    "    height=350,\n",
    "    width=550,\n",
    "    title='Average Searches for MercadoLibre by Hour and Weekday'\n",
    ")\n"
   ]
  },
  {
   "cell_type": "markdown",
   "metadata": {
    "id": "J_j8OMEt5vYl"
   },
   "source": [
    "**Question:** Does any day-of-week effect that you observe concentrate in just a few hours of that day?\n",
    "\n",
    "**Answer:** Given the data provided it would seem that there is an uptick in traffic at beginning of the week, peaking Monday around the midnight, this is based on local time to this data set. There seems to be more searches in the late evenings/early mornings at the start of the week peaking Monday night then slowing decreasing as the week progresses."
   ]
  },
  {
   "cell_type": "code",
   "execution_count": null,
   "metadata": {
    "id": "Q6-QOvac5vYm"
   },
   "outputs": [],
   "source": [
    "# Holoviews extension to render hvPlots in Colab\n",
    "hv.extension('bokeh')\n",
    "\n",
    "# Grouped the hourly search data to plot the average traffic by the week of the year\n",
    "df_mercado_week_year = df_mercado_trends.groupby([df_mercado_trends.index.week, df_mercado_trends.index.year]).mean().unstack()['Search Trends']\n",
    "df_mercado_week_year.hvplot(\n",
    "    xlabel= 'Week',\n",
    "    ylabel= 'Search Traffic',\n",
    "    group_label='Year',\n",
    "    title='Average Searches for MercadoLibre by Week and Year')\n"
   ]
  },
  {
   "cell_type": "markdown",
   "metadata": {
    "id": "g8KuwHUO5vYm"
   },
   "source": [
    "**Question:** Does the search traffic tend to increase during the winter holiday period (weeks 40 through 52)?\n",
    "\n",
    "**Answer:** Given the data on the line graph, there does seems to be a slight increase, though fluctuant, in traffic from Week 40 up until week 50. We do see a sharp downturn in that last 2week time period. "
   ]
  },
  {
   "cell_type": "code",
   "execution_count": null,
   "metadata": {
    "id": "76AIiSwA5vYn"
   },
   "outputs": [],
   "source": [
    "# Read in CSV file for Google Colab\n",
    "# Uploaded the \"mercado_stock_price.csv\" file into Colab, then store in a Pandas DataFrame\n",
    "\"\"\"\n",
    "from google.colab import files\n",
    "uploaded = files.upload()\n",
    "\n",
    "df_mercado_trends = pd.read_csv(\n",
    "    'mercado_stock_price.csv',\n",
    "    index_col='date',\n",
    "    parse_dates=True,\n",
    "    infer_datetime_format=True\n",
    ")\n",
    "\"\"\"\n",
    "# Read in CSV file on Jupyter Lab\n",
    "df_mercado_stock = pd.read_csv(\n",
    "    Path('Resources/mercado_stock_price.csv'),\n",
    "    index_col='date',\n",
    "    parse_dates=True,\n",
    "    infer_datetime_format=True\n",
    ")\n",
    "\n",
    "# View the first and last five rows of the DataFrame\n",
    "display(df_mercado_stock.head())\n",
    "display(df_mercado_stock.tail())"
   ]
  },
  {
   "cell_type": "code",
   "execution_count": null,
   "metadata": {
    "id": "YZ2kK5xl5vYn"
   },
   "outputs": [],
   "source": [
    "# Holoviews extension to render hvPlots in Colab\n",
    "hv.extension('bokeh')\n",
    "\n",
    "# Used hvPlot to visualize the closing price of the df_mercado_stock DataFrame\n",
    "df_mercado_stock.hvplot(title='Closing Prices for MercadoLibre Stock')\n"
   ]
  },
  {
   "cell_type": "code",
   "execution_count": null,
   "metadata": {
    "id": "fGAWj85G5vYn"
   },
   "outputs": [],
   "source": [
    "# Concatenated the df_mercado_stock DataFrame with the df_mercado_trends DataFrame\n",
    "mercado_stock_trends_df = pd.concat([df_mercado_trends, df_mercado_stock], axis=1).dropna()\n",
    "\n",
    "# View the first and last five rows of the DataFrame\n",
    "display(mercado_stock_trends_df.head())\n",
    "display(mercado_stock_trends_df.tail())"
   ]
  },
  {
   "cell_type": "code",
   "execution_count": null,
   "metadata": {
    "id": "3-M4QI105vYn"
   },
   "outputs": [],
   "source": [
    "# For the combined dataframe, sliced just the first half of 2020 (2020-01 through 2020-06) \n",
    "first_half_2020 = mercado_stock_trends_df.loc['2020-01':'2020-06']\n",
    "\n",
    "# View the first and last five rows of first_half_2020 DataFrame\n",
    "display(first_half_2020.head())\n",
    "display(first_half_2020.tail())"
   ]
  },
  {
   "cell_type": "code",
   "execution_count": null,
   "metadata": {
    "id": "vrcaMSrR5vYn"
   },
   "outputs": [],
   "source": [
    "# Holoviews extension to render hvPlots in Colab\n",
    "hv.extension('bokeh')\n",
    "\n",
    "# Used hvPlot to visualize the close and Search Trends data\n",
    "# Ploted each column on a separate axes\n",
    "print('Search Trends compared to Closing Prices for MercadoLibre for first half of 2020:')\n",
    "first_half_2020.hvplot(shared_axes=False, subplots=True).cols(1)\n",
    "\n"
   ]
  },
  {
   "cell_type": "markdown",
   "metadata": {
    "id": "ugE-1MKw5vYn"
   },
   "source": [
    "**Question:**  Market events emerged during the year of 2020 that many companies found difficult. But, after the initial shock to global financial markets, new customers and revenue increased for e-commerce platforms. Do both time series indicate a common trend that’s consistent with this narrative?\n",
    "\n",
    "**Answer:** It does seem that MercadoLibre follows this narrative. Both graphs show a strong decrease at the end of February and through March. This is probably due to the global situation during that timeperiod. MercadoLibre is able to recover see growth from April thorough the end of the year. Thus following the prestated narrative."
   ]
  },
  {
   "cell_type": "code",
   "execution_count": null,
   "metadata": {
    "id": "YnLJ43w85vYo"
   },
   "outputs": [],
   "source": [
    "# Created a new column in the mercado_stock_trends_df DataFrame called Lagged Search Trends\n",
    "# This column should shift the Search Trends information by one hour\n",
    "mercado_stock_trends_df['Lagged Search Trends'] = mercado_stock_trends_df['Search Trends'].shift(1)"
   ]
  },
  {
   "cell_type": "code",
   "execution_count": null,
   "metadata": {
    "id": "zMlNq-pR5vYo"
   },
   "outputs": [],
   "source": [
    "# Created a new column in the mercado_stock_trends_df DataFrame called Stock Volatility\n",
    "# This column calculates the standard deviation of the closing stock price return data over a 4 period rolling window\n",
    "mercado_stock_trends_df['Stock Volatility'] = mercado_stock_trends_df['close'].rolling(window=4).std()\n"
   ]
  },
  {
   "cell_type": "code",
   "execution_count": null,
   "metadata": {
    "id": "LiVaYdyR5vYo"
   },
   "outputs": [],
   "source": [
    "# Holoviews extension to render hvPlots in Colab\n",
    "hv.extension('bokeh')\n",
    "\n",
    "# Used hvPlot to visualize the stock volatility\n",
    "mercado_stock_trends_df['Stock Volatility'].hvplot()\n"
   ]
  },
  {
   "cell_type": "markdown",
   "metadata": {
    "id": "c5O-3lja5vYo"
   },
   "source": [
    "***Solution Note:*** Note how volatility spiked, and tended to stay high, during the first half of 2020. This is a common characteristic of volatility in stock returns worldwide: high volatility days tend to be followed by yet more high volatility days. When it rains, it pours."
   ]
  },
  {
   "cell_type": "code",
   "execution_count": null,
   "metadata": {
    "id": "-CnROxwY5vYo"
   },
   "outputs": [],
   "source": [
    "# Created a new column in the mercado_stock_trends_df DataFrame called Hourly Stock Return\n",
    "# This column calculates hourly return percentage of the closing price\n",
    "mercado_stock_trends_df['Hourly Stock Return'] = mercado_stock_trends_df['close'].pct_change()\n"
   ]
  },
  {
   "cell_type": "code",
   "execution_count": null,
   "metadata": {
    "id": "hHuqJpBU5vYo"
   },
   "outputs": [],
   "source": [
    "# View the first and last five rows of the mercado_stock_trends_df DataFrame\n",
    "display(mercado_stock_trends_df[['Hourly Stock Return']].head())\n",
    "display(mercado_stock_trends_df[['Hourly Stock Return']].tail())"
   ]
  },
  {
   "cell_type": "code",
   "execution_count": null,
   "metadata": {
    "id": "VXxw_zHg5vYo"
   },
   "outputs": [],
   "source": [
    "# Constructed a correlation table of Stock Volatility, Lagged Search Trends, and Hourly Stock Return\n",
    "mercado_stock_trends_df[['Stock Volatility', 'Lagged Search Trends', 'Hourly Stock Return']].corr()\n"
   ]
  },
  {
   "cell_type": "markdown",
   "metadata": {
    "id": "LvwkAJ0m5vYp"
   },
   "source": [
    "**Question:** Does a predictable relationship exist between the lagged search traffic and the stock volatility or between the lagged search traffic and the stock price returns?\n",
    "\n",
    "**Answer:** The data shows that there is a negative correlation between Lagged Search Trends and Stock Volatility. We do see a very small correlation between Lagged Search Trends and Hourly Stock Return."
   ]
  },
  {
   "cell_type": "code",
   "execution_count": null,
   "metadata": {
    "id": "eVwTGN5k5vYp"
   },
   "outputs": [],
   "source": [
    "# Using the df_mercado_trends DataFrame, reset the index so the date information is no longer the index\n",
    "mercado_prophet_df = df_mercado_trends.reset_index()\n",
    "    \n",
    "# Labeled the columns ds and y so that the syntax is recognized by Prophet\n",
    "mercado_prophet_df.columns = ['ds', 'y']\n",
    "\n",
    "# Dropped an NaN values from the prophet_df DataFrame\n",
    "mercado_prophet_df = mercado_prophet_df.dropna()\n",
    "\n",
    "# View the first and last five rows of the mercado_prophet_df DataFrame\n",
    "display(mercado_prophet_df.head())\n",
    "display(mercado_prophet_df.tail())"
   ]
  },
  {
   "cell_type": "code",
   "execution_count": null,
   "metadata": {
    "id": "7RW1i3Us5vYp"
   },
   "outputs": [],
   "source": [
    "# Called the Prophet function, stored as an object\n",
    "model_mercado_trends = Prophet()\n"
   ]
  },
  {
   "cell_type": "code",
   "execution_count": null,
   "metadata": {
    "id": "KKAfsBHK5vYp"
   },
   "outputs": [],
   "source": [
    "# Fit the time-series model.\n",
    "model_mercado_trends.fit(mercado_prophet_df)\n"
   ]
  },
  {
   "cell_type": "code",
   "execution_count": null,
   "metadata": {
    "id": "bgXjdFxq5vYq"
   },
   "outputs": [],
   "source": [
    "# Created a future dataframe to hold predictions\n",
    "# Made the prediction go out as far as 2000 hours (approx 80 days)\n",
    "future_mercado_trends = model_mercado_trends.make_future_dataframe(periods=2000, freq='H')\n",
    "\n",
    "# View the last five rows of the future_mercado_trends DataFrame\n",
    "display(future_mercado_trends.tail())\n"
   ]
  },
  {
   "cell_type": "code",
   "execution_count": null,
   "metadata": {
    "id": "WIVKZE5G5vYq"
   },
   "outputs": [],
   "source": [
    "# Made the predictions for the trend data using the future_mercado_trends DataFrame\n",
    "forecast_mercado_trends = model_mercado_trends.predict(future_mercado_trends)\n",
    "\n",
    "# Display the first five rows of the forecast_mercado_trends DataFrame\n",
    "display(forecast_mercado_trends.head())\n"
   ]
  },
  {
   "cell_type": "code",
   "execution_count": null,
   "metadata": {
    "id": "I_ukDx5W5vYq"
   },
   "outputs": [],
   "source": [
    "# Ploted the Prophet predictions for the Mercado trends data\n",
    "forecast_plot = model_mercado_trends.plot(forecast_mercado_trends)"
   ]
  },
  {
   "cell_type": "markdown",
   "metadata": {
    "id": "mLv_UztI5vYq"
   },
   "source": [
    "**Question:**  How's the near-term forecast for the popularity of MercadoLibre?\n",
    "\n",
    "**Answer:** The forecast shows that there will be a slight downturn in search traffic in the near-term. Though given the other metrix such as earnings and stock price I would expect this some downturn to not have a big effect.\n"
   ]
  },
  {
   "cell_type": "code",
   "execution_count": null,
   "metadata": {
    "id": "Bf-hbJJ85vYq"
   },
   "outputs": [],
   "source": [
    "# Set the index in the forecast_mercado_trends DataFrame to the ds datetime column\n",
    "forecast_mercado_trends = forecast_mercado_trends.set_index('ds')\n",
    "\n",
    "# View the only the yhat,yhat_lower and yhat_upper columns from the DataFrame\n",
    "display(forecast_mercado_trends[['yhat','yhat_lower','yhat_upper']])"
   ]
  },
  {
   "cell_type": "markdown",
   "metadata": {
    "id": "SlXEvoun5vYq"
   },
   "source": [
    "***Solutions Note:*** `yhat` represents the most likely (average) forecast, whereas `yhat_lower` and `yhat_upper` represents the worst and best case prediction (based on what are known as 95% confidence intervals)."
   ]
  },
  {
   "cell_type": "code",
   "execution_count": null,
   "metadata": {
    "id": "AfxOtwvk5vYq"
   },
   "outputs": [],
   "source": [
    "# Holoviews extension to render hvPlots in Colab\n",
    "hv.extension('bokeh')\n",
    "\n",
    "# From the forecast_mercado_trends DataFrame, used hvPlot to visualize\n",
    "# the yhat, yhat_lower, and yhat_upper columns over the last 2000 hours \n",
    "forecast_mercado_trends[['yhat','yhat_lower','yhat_upper']].hvplot(title='Prophet Forecast of MercadoLibre Searches')\n"
   ]
  },
  {
   "cell_type": "code",
   "execution_count": null,
   "metadata": {
    "id": "8n6ULQJT5vYr"
   },
   "outputs": [],
   "source": [
    "# Reset the index in the forecast_mercado_trends DataFrame\n",
    "forecast_mercado_trends = forecast_mercado_trends.reset_index()\n",
    "\n",
    "# Used the plot_components function to visualize the forecast results for the forecast_mercdo_trends DataFrame \n",
    "print('Time Series Analysis for MercadoLibre Search Traffic with Forcast')\n",
    "figures_mercado_trends = model_mercado_trends.plot_components(forecast_mercado_trends)"
   ]
  },
  {
   "cell_type": "markdown",
   "metadata": {
    "id": "x_JNSujP5vYr"
   },
   "source": [
    "**Question:** What time of day exhibits the greatest popularity?\n",
    "\n",
    "**Answer:** Within the timezone this data is in, midnight is when it exhibits greatest popularity."
   ]
  },
  {
   "cell_type": "markdown",
   "metadata": {
    "id": "Dz-dn6e45vYr"
   },
   "source": [
    "**Question:** Which day of week gets the most search traffic? \n",
    "   \n",
    "**Answer:** Tuesday is the day of the week that shows the most search traffic."
   ]
  },
  {
   "cell_type": "markdown",
   "metadata": {
    "id": "zlB2GtS75vYr"
   },
   "source": [
    "**Question:** What's the lowest point for search traffic in the calendar year?\n",
    "\n",
    "**Answer:** Starting near the end of September there is a sharp decrease and bottoms out in October.\n"
   ]
  },
  {
   "cell_type": "code",
   "execution_count": null,
   "metadata": {
    "id": "0ZnXsGSu5vYr"
   },
   "outputs": [],
   "source": [
    "# Read in CSV file for Google Colab\n",
    "# Uploaded the \"mercado_daily_revenue.csv\" file into Colab, then store in a Pandas DataFrame\n",
    "# Sales are quoted in millions of US dollars\n",
    "'''\n",
    "from google.colab import files\n",
    "uploaded = files.upload()\n",
    "\n",
    "df_mercado_sales = pd.read_csv(\n",
    "    'mercado_daily_recenue.csv',\n",
    "    index_col='date',\n",
    "    parse_dates=True,\n",
    "    infer_datetime_format=True\n",
    ")\n",
    "'''\n",
    "# Read in CSV file \"mercado_daily_revenue.csv\"\n",
    "df_mercado_sales = pd.read_csv(\n",
    "    Path('Resources/mercado_daily_revenue.csv',\n",
    "         index_col='date', parse_dates=True,\n",
    "         infer_datetime_format=True)\n",
    ")\n",
    "# Set the \"date\" column as the DatetimeIndex\n",
    "df_mercado_sales = df_mercado_sales.set_index('date')\n",
    "\n",
    "# Review the DataFrame\n",
    "display(df_mercado_sales)"
   ]
  },
  {
   "cell_type": "code",
   "execution_count": null,
   "metadata": {
    "id": "McEkgHFS5vYr"
   },
   "outputs": [],
   "source": [
    "# Holoviews extension to render hvPlots in Colab\n",
    "hv.extension('bokeh')\n",
    "\n",
    "# Used hvPlot to visualize the daily sales figures \n",
    "df_mercado_sales.hvplot(title = 'Daily Sales Figures - MercadoLibre',rot=90)\n"
   ]
  },
  {
   "cell_type": "code",
   "execution_count": null,
   "metadata": {
    "id": "nh9J-jxm5vYs"
   },
   "outputs": [],
   "source": [
    "# Applied a Facebook Prophet model to the data.\n",
    "# Reset the index so that date becomes a column in the DataFrame\n",
    "mercado_sales_prophet_df = df_mercado_sales.reset_index()\n",
    "\n",
    "# Adjusted the columns names to the Prophet syntax\n",
    "mercado_sales_prophet_df.columns = ['ds','y']\n",
    "\n",
    "# Visualize the DataFrame\n",
    "mercado_sales_prophet_df.head()\n"
   ]
  },
  {
   "cell_type": "code",
   "execution_count": null,
   "metadata": {
    "id": "s7Z3ixUF5vYs"
   },
   "outputs": [],
   "source": [
    "# Created the model\n",
    "mercado_sales_prophet_model = Prophet()\n",
    "\n",
    "# Fit the model\n",
    "mercado_sales_prophet_model.fit(mercado_sales_prophet_df)\n"
   ]
  },
  {
   "cell_type": "code",
   "execution_count": null,
   "metadata": {
    "id": "Nhlbid845vYs"
   },
   "outputs": [],
   "source": [
    "# Predicted sales for 90 days (1 quarter) out into the future.\n",
    "# Started by making a future dataframe\n",
    "mercado_sales_prophet_future = mercado_sales_prophet_model.make_future_dataframe(periods=90)\n",
    "\n",
    "# Display the last five rows of the future DataFrame\n",
    "mercado_sales_prophet_future.tail()\n"
   ]
  },
  {
   "cell_type": "code",
   "execution_count": null,
   "metadata": {
    "id": "XEfvCuf15vYs"
   },
   "outputs": [],
   "source": [
    "# Made predictions for the sales each day over the next quarter\n",
    "mercado_sales_prophet_forecast = mercado_sales_prophet_model.predict(mercado_sales_prophet_future)\n",
    "\n",
    "# Display the first 5 rows of the resulting DataFrame\n",
    "mercado_sales_prophet_forecast.head()\n"
   ]
  },
  {
   "cell_type": "code",
   "execution_count": null,
   "metadata": {
    "id": "bu2ZUlO35vYs"
   },
   "outputs": [],
   "source": [
    "# Used the plot_components function to analyze seasonal patterns in the company's revenue\n",
    "print('MercadoLibre Sales Time Series')\n",
    "sales_prophet_plot = mercado_sales_prophet_model.plot_components(mercado_sales_prophet_forecast)\n"
   ]
  },
  {
   "cell_type": "markdown",
   "metadata": {
    "id": "hlPvocuD5vYs"
   },
   "source": [
    "**Question:** For example, what are the peak revenue days? (Mondays? Fridays? Something else?)\n",
    "\n",
    "**Answer:** The plot shows an upward trend at the beginning of the week peaking on Wednesday then declines the remainder of the week. Wednesday is the peak revenue day."
   ]
  },
  {
   "cell_type": "code",
   "execution_count": null,
   "metadata": {
    "id": "3nj8SwCD5vYs"
   },
   "outputs": [],
   "source": [
    "#Holoviews extention to render hvPlots in Colab\n",
    "hv.extension('bokeh')\n",
    "\n",
    "# Plot the predictions for the Mercado sales\n",
    "mercado_sales_prophet_forecast[['yhat_lower','yhat_upper','yhat','ds']].hvplot(\n",
    "    x='ds',\n",
    "    xlabel='date',\n",
    "    ylabel='Sales',\n",
    "    title = 'Sales Predictions - MercadoLibre (millions)'\n",
    ")\n"
   ]
  },
  {
   "cell_type": "code",
   "execution_count": null,
   "metadata": {
    "id": "kq5f-9Rc5vYs"
   },
   "outputs": [],
   "source": [
    "# Set the ds column as the DataFrame Index for the mercado_sales_prophet_forecast\n",
    "mercado_sales_prophet_forecast_df = mercado_sales_prophet_forecast.set_index('ds')\n",
    "\n",
    "# Display the first and last five rows of the DataFrame\n",
    "display(mercado_sales_prophet_forecast_df.head())\n",
    "display(mercado_sales_prophet_forecast_df.tail())"
   ]
  },
  {
   "cell_type": "code",
   "execution_count": null,
   "metadata": {
    "id": "7NXDU-q25vYs"
   },
   "outputs": [],
   "source": [
    "# Produced a sales forecast for the finance division\n",
    "# Created a forecast_quarter Dataframe for the period 2020-07-01 to 2020-09-30\n",
    "mercado_sales_forecast_quarter = mercado_sales_prophet_forecast_df.loc['2020-07-01':'2020-09-30'][['yhat_upper','yhat_lower','yhat']]\n",
    "\n",
    "# Updated the column names to provided best case (yhat_upper), worst case (yhat_lower), and most likely (yhat) scenarios\n",
    "# to match what the finance division is looking for \n",
    "mercado_sales_forecast_quarter.columns = ['Best Case','Worst Case','Most Likely' ]\n",
    "\n",
    "# Review the last five rows of the DataFrame\n",
    "mercado_sales_forecast_quarter.tail()\n"
   ]
  },
  {
   "cell_type": "code",
   "execution_count": null,
   "metadata": {
    "id": "FLkWpXOh5vYt"
   },
   "outputs": [],
   "source": [
    "# Displayed the summed values for all the rows in the forecast_quarter DataFrame\n",
    "print('The total values for the projected revenue for Q3 of 2020 (millions):')\n",
    "display(mercado_sales_forecast_quarter.sum())"
   ]
  },
  {
   "cell_type": "markdown",
   "metadata": {
    "id": "zu33tiGh5vYt",
    "tags": []
   },
   "source": [
    "### Based on the forecast information generated above, produce a sales forecast for the finance division, giving them a number for expected total sales next quarter. Include best and worst case scenarios, to better help the finance team plan.\n",
    "\n",
    "**Answer:** MercadoLibre is seeing a strong upward trend in sales and based on this forecast is expected to earn 970millon dollars in the 3rd quarter of 2020, with a lower end of 887million and an upper end of 1billon dollars."
   ]
  }
 ],
 "metadata": {
  "colab": {
   "collapsed_sections": [
    "Hfj6NE3o5vYk",
    "xB5JcvZd5vYl",
    "_qRoC5m75vYm",
    "KViyWOtu5vYm",
    "icCtkMD65vYn",
    "weceKwVe5vYo",
    "IAQmCWjE5vYo",
    "sIndVTJA5vYp",
    "2dzIynQq5vYq",
    "ukCO731k5vYq",
    "VvmG2GA15vYr",
    "4Q6FZCjS5vYs",
    "eBwp7pWi5vYs"
   ],
   "name": "forecasting_net_prophet.ipynb",
   "provenance": []
  },
  "kernelspec": {
   "display_name": "devv",
   "language": "python",
   "name": "devv"
  },
  "language_info": {
   "codemirror_mode": {
    "name": "ipython",
    "version": 3
   },
   "file_extension": ".py",
   "mimetype": "text/x-python",
   "name": "python",
   "nbconvert_exporter": "python",
   "pygments_lexer": "ipython3",
   "version": "3.7.10"
  }
 },
 "nbformat": 4,
 "nbformat_minor": 4
}
